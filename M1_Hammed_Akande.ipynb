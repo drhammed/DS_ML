{
  "cells": [
    {
      "cell_type": "markdown",
      "metadata": {
        "id": "FYGEbkRnQR3T"
      },
      "source": [
        "# Neural Network\n",
        "In this project, I will create a small neural network in keras that classifies the different types of winee. They labels are the columns called \"Class\"."
      ]
    },
    {
      "cell_type": "code",
      "execution_count": 1,
      "metadata": {
        "id": "eLjJqyNuF0iU"
      },
      "outputs": [],
      "source": [
        "import numpy as np\n",
        "import pandas as pd\n",
        "import matplotlib.pyplot as plt\n",
        "from sklearn.model_selection import train_test_split\n",
        "from sklearn.preprocessing import StandardScaler\n",
        "from tensorflow.keras.models import Sequential\n",
        "from tensorflow.keras.layers import Dense, Input\n",
        "from tensorflow.keras.utils import to_categorical"
      ]
    },
    {
      "cell_type": "code",
      "execution_count": null,
      "metadata": {
        "colab": {
          "base_uri": "https://localhost:8080/"
        },
        "id": "IVgMwO9VO_jl",
        "outputId": "0fd507c3-239a-41bc-abf4-42d792378453"
      },
      "outputs": [
        {
          "name": "stdout",
          "output_type": "stream",
          "text": [
            "--2024-05-20 17:16:44--  https://storage.googleapis.com/nicksdemobucket/wines.csv\n",
            "Resolving storage.googleapis.com (storage.googleapis.com)... 142.250.141.207, 142.251.2.207, 142.250.101.207, ...\n",
            "Connecting to storage.googleapis.com (storage.googleapis.com)|142.250.141.207|:443... connected.\n",
            "HTTP request sent, awaiting response... 404 Not Found\n",
            "2024-05-20 17:16:44 ERROR 404: Not Found.\n",
            "\n"
          ]
        }
      ],
      "source": [
        "!wget https://storage.googleapis.com/nicksdemobucket/wines.csv"
      ]
    },
    {
      "cell_type": "markdown",
      "metadata": {
        "id": "7CGiJt8X8TQU"
      },
      "source": [
        "#Import data"
      ]
    },
    {
      "cell_type": "code",
      "execution_count": 2,
      "metadata": {
        "colab": {
          "base_uri": "https://localhost:8080/",
          "height": 244
        },
        "id": "poY3OUIoQFZC",
        "outputId": "f21a379c-61a2-46e1-9ac0-4ed381b26e68"
      },
      "outputs": [
        {
          "data": {
            "text/html": [
              "<div>\n",
              "<style scoped>\n",
              "    .dataframe tbody tr th:only-of-type {\n",
              "        vertical-align: middle;\n",
              "    }\n",
              "\n",
              "    .dataframe tbody tr th {\n",
              "        vertical-align: top;\n",
              "    }\n",
              "\n",
              "    .dataframe thead th {\n",
              "        text-align: right;\n",
              "    }\n",
              "</style>\n",
              "<table border=\"1\" class=\"dataframe\">\n",
              "  <thead>\n",
              "    <tr style=\"text-align: right;\">\n",
              "      <th></th>\n",
              "      <th>Class</th>\n",
              "      <th>Alcohol</th>\n",
              "      <th>Malic_acid</th>\n",
              "      <th>Ash</th>\n",
              "      <th>Alcalinity_of_ash</th>\n",
              "      <th>Magnesium</th>\n",
              "      <th>Total_phenols</th>\n",
              "      <th>Flavanoids</th>\n",
              "      <th>Nonflavanoid_phenols</th>\n",
              "      <th>Proanthocyanins</th>\n",
              "      <th>Color_intensity</th>\n",
              "      <th>Hue</th>\n",
              "      <th>OD280-OD315_of_diluted_wines</th>\n",
              "      <th>Proline</th>\n",
              "    </tr>\n",
              "  </thead>\n",
              "  <tbody>\n",
              "    <tr>\n",
              "      <th>0</th>\n",
              "      <td>1</td>\n",
              "      <td>14.23</td>\n",
              "      <td>1.71</td>\n",
              "      <td>2.43</td>\n",
              "      <td>15.6</td>\n",
              "      <td>127</td>\n",
              "      <td>2.80</td>\n",
              "      <td>3.06</td>\n",
              "      <td>0.28</td>\n",
              "      <td>2.29</td>\n",
              "      <td>5.64</td>\n",
              "      <td>1.04</td>\n",
              "      <td>3.92</td>\n",
              "      <td>1065</td>\n",
              "    </tr>\n",
              "    <tr>\n",
              "      <th>1</th>\n",
              "      <td>1</td>\n",
              "      <td>13.20</td>\n",
              "      <td>1.78</td>\n",
              "      <td>2.14</td>\n",
              "      <td>11.2</td>\n",
              "      <td>100</td>\n",
              "      <td>2.65</td>\n",
              "      <td>2.76</td>\n",
              "      <td>0.26</td>\n",
              "      <td>1.28</td>\n",
              "      <td>4.38</td>\n",
              "      <td>1.05</td>\n",
              "      <td>3.40</td>\n",
              "      <td>1050</td>\n",
              "    </tr>\n",
              "    <tr>\n",
              "      <th>2</th>\n",
              "      <td>1</td>\n",
              "      <td>13.16</td>\n",
              "      <td>2.36</td>\n",
              "      <td>2.67</td>\n",
              "      <td>18.6</td>\n",
              "      <td>101</td>\n",
              "      <td>2.80</td>\n",
              "      <td>3.24</td>\n",
              "      <td>0.30</td>\n",
              "      <td>2.81</td>\n",
              "      <td>5.68</td>\n",
              "      <td>1.03</td>\n",
              "      <td>3.17</td>\n",
              "      <td>1185</td>\n",
              "    </tr>\n",
              "    <tr>\n",
              "      <th>3</th>\n",
              "      <td>1</td>\n",
              "      <td>14.37</td>\n",
              "      <td>1.95</td>\n",
              "      <td>2.50</td>\n",
              "      <td>16.8</td>\n",
              "      <td>113</td>\n",
              "      <td>3.85</td>\n",
              "      <td>3.49</td>\n",
              "      <td>0.24</td>\n",
              "      <td>2.18</td>\n",
              "      <td>7.80</td>\n",
              "      <td>0.86</td>\n",
              "      <td>3.45</td>\n",
              "      <td>1480</td>\n",
              "    </tr>\n",
              "    <tr>\n",
              "      <th>4</th>\n",
              "      <td>1</td>\n",
              "      <td>13.24</td>\n",
              "      <td>2.59</td>\n",
              "      <td>2.87</td>\n",
              "      <td>21.0</td>\n",
              "      <td>118</td>\n",
              "      <td>2.80</td>\n",
              "      <td>2.69</td>\n",
              "      <td>0.39</td>\n",
              "      <td>1.82</td>\n",
              "      <td>4.32</td>\n",
              "      <td>1.04</td>\n",
              "      <td>2.93</td>\n",
              "      <td>735</td>\n",
              "    </tr>\n",
              "  </tbody>\n",
              "</table>\n",
              "</div>"
            ],
            "text/plain": [
              "   Class  Alcohol  Malic_acid   Ash  Alcalinity_of_ash  Magnesium  \\\n",
              "0      1    14.23        1.71  2.43               15.6        127   \n",
              "1      1    13.20        1.78  2.14               11.2        100   \n",
              "2      1    13.16        2.36  2.67               18.6        101   \n",
              "3      1    14.37        1.95  2.50               16.8        113   \n",
              "4      1    13.24        2.59  2.87               21.0        118   \n",
              "\n",
              "   Total_phenols  Flavanoids  Nonflavanoid_phenols  Proanthocyanins  \\\n",
              "0           2.80        3.06                  0.28             2.29   \n",
              "1           2.65        2.76                  0.26             1.28   \n",
              "2           2.80        3.24                  0.30             2.81   \n",
              "3           3.85        3.49                  0.24             2.18   \n",
              "4           2.80        2.69                  0.39             1.82   \n",
              "\n",
              "   Color_intensity   Hue  OD280-OD315_of_diluted_wines  Proline  \n",
              "0             5.64  1.04                          3.92     1065  \n",
              "1             4.38  1.05                          3.40     1050  \n",
              "2             5.68  1.03                          3.17     1185  \n",
              "3             7.80  0.86                          3.45     1480  \n",
              "4             4.32  1.04                          2.93      735  "
            ]
          },
          "execution_count": 2,
          "metadata": {},
          "output_type": "execute_result"
        }
      ],
      "source": [
        "import pandas as pd\n",
        "df = pd.read_csv('wines.csv')\n",
        "df.head()"
      ]
    },
    {
      "cell_type": "code",
      "execution_count": 3,
      "metadata": {
        "colab": {
          "base_uri": "https://localhost:8080/"
        },
        "id": "_6qzQaVVFx7X",
        "outputId": "e5ab2d5d-2682-4d45-fcc1-71ff5af46ecb"
      },
      "outputs": [
        {
          "data": {
            "text/plain": [
              "(178, 14)"
            ]
          },
          "execution_count": 3,
          "metadata": {},
          "output_type": "execute_result"
        }
      ],
      "source": [
        "# Shuffle the DataFrame\n",
        "df = df.sample(frac=1, random_state=42).reset_index(drop=True)\n",
        "df.shape"
      ]
    },
    {
      "cell_type": "code",
      "execution_count": 4,
      "metadata": {
        "colab": {
          "base_uri": "https://localhost:8080/"
        },
        "id": "UcTWf4be9V9D",
        "outputId": "bf01977d-19db-4866-956b-4556b18426de"
      },
      "outputs": [
        {
          "data": {
            "text/plain": [
              "(178, 13)"
            ]
          },
          "execution_count": 4,
          "metadata": {},
          "output_type": "execute_result"
        }
      ],
      "source": [
        "X = df.drop(['Class'], axis=1).values\n",
        "X.shape"
      ]
    },
    {
      "cell_type": "code",
      "execution_count": 5,
      "metadata": {
        "colab": {
          "base_uri": "https://localhost:8080/"
        },
        "id": "_WDvEbzC9V9D",
        "outputId": "dea871aa-8b38-4df8-f29c-ea59692068fd"
      },
      "outputs": [
        {
          "data": {
            "text/plain": [
              "(178,)"
            ]
          },
          "execution_count": 5,
          "metadata": {},
          "output_type": "execute_result"
        }
      ],
      "source": [
        "y = df['Class'].values\n",
        "y.shape"
      ]
    },
    {
      "cell_type": "code",
      "execution_count": 6,
      "metadata": {
        "id": "heG2XNyh9V9D"
      },
      "outputs": [],
      "source": [
        "# Since the label starts from 1, we can adjust the classes to zero-based indexing\n",
        "y = y - 1"
      ]
    },
    {
      "cell_type": "markdown",
      "metadata": {
        "id": "zHykNpBs8HVy"
      },
      "source": [
        "# Split the data, standardize and perform one-hot encoding"
      ]
    },
    {
      "cell_type": "code",
      "execution_count": 7,
      "metadata": {
        "id": "CPoI4TWE9V9D"
      },
      "outputs": [],
      "source": [
        "\n",
        "# Let's split the data\n",
        "X_train, X_test, y_train, y_test = train_test_split(X, y, test_size=0.2, random_state=42)\n",
        "\n",
        "# StandardScaler to standardize the data\n",
        "scaler = StandardScaler()\n",
        "X_train = scaler.fit_transform(X_train)\n",
        "X_test = scaler.transform(X_test)\n",
        "\n",
        "# One-hot encoding to convert labels to categorical\n",
        "y_train = to_categorical(y_train, num_classes=3)\n",
        "y_test = to_categorical(y_test, num_classes=3)\n"
      ]
    },
    {
      "cell_type": "markdown",
      "metadata": {
        "id": "63pkrIL-8hpI"
      },
      "source": [
        "# Build the neural network model"
      ]
    },
    {
      "cell_type": "code",
      "execution_count": 8,
      "metadata": {
        "id": "ehz2Mn9j9V9E"
      },
      "outputs": [],
      "source": [
        "# Now, we can build the neural network model\n",
        "model = Sequential()\n",
        "model.add(Input(shape=(X_train.shape[1],)))\n",
        "model.add(Dense(64, activation='relu'))\n",
        "model.add(Dense(32, activation='relu'))\n",
        "model.add(Dense(16, activation='relu'))\n",
        "model.add(Dense(3, activation='softmax'))"
      ]
    },
    {
      "cell_type": "markdown",
      "metadata": {
        "id": "SS2Tu2ig8lQX"
      },
      "source": [
        "#Compile and fit the Model (using 16 batch_size and 250 epochs)"
      ]
    },
    {
      "cell_type": "code",
      "execution_count": null,
      "metadata": {
        "colab": {
          "base_uri": "https://localhost:8080/"
        },
        "id": "BqP_i3dB9V9E",
        "outputId": "8eb4da92-34c1-48d6-b1b3-a2aa38e2e260"
      },
      "outputs": [],
      "source": [
        "batch_size = 16\n",
        "epochs = 250\n",
        "\n",
        "\n",
        "# Then compile the model\n",
        "model.compile(optimizer='adam', loss='categorical_crossentropy', metrics=['accuracy'])\n",
        "\n",
        "# Train the model\n",
        "neural_mod = model.fit(X_train, y_train, epochs=epochs, batch_size=batch_size, validation_data=(X_test, y_test))\n"
      ]
    },
    {
      "cell_type": "markdown",
      "metadata": {
        "id": "Ot_CbUut7XE4"
      },
      "source": [
        "# **Print the history**"
      ]
    },
    {
      "cell_type": "code",
      "execution_count": 10,
      "metadata": {
        "colab": {
          "base_uri": "https://localhost:8080/"
        },
        "id": "b3VlChLG9V9E",
        "outputId": "c779475c-243b-47f7-b995-747b872b3004"
      },
      "outputs": [
        {
          "name": "stdout",
          "output_type": "stream",
          "text": [
            "{'loss': [1.1815036535263062, 1.004723310470581, 0.8629400730133057, 0.7400339841842651, 0.6367582082748413, 0.5381984114646912, 0.44045835733413696, 0.34728309512138367, 0.26176679134368896, 0.19241170585155487, 0.14111261069774628, 0.10575823485851288, 0.08155039697885513, 0.06502494215965271, 0.05259694159030914, 0.04459024593234062, 0.03735692426562309, 0.032473329454660416, 0.02804187312722206, 0.024462491273880005, 0.021210763603448868, 0.018054934218525887, 0.0156357754021883, 0.013628103770315647, 0.012246866710484028, 0.010688450187444687, 0.009873541072010994, 0.00872892141342163, 0.007912659086287022, 0.007164280395954847, 0.006638694554567337, 0.006048896815627813, 0.005631851032376289, 0.005209243856370449, 0.004882461857050657, 0.004500207956880331, 0.004173457156866789, 0.003922982607036829, 0.003681459929794073, 0.0034974562004208565, 0.003291561035439372, 0.0030426429584622383, 0.0028870776295661926, 0.0027314925100654364, 0.002587792929261923, 0.0024382960982620716, 0.00232897000387311, 0.002183646196499467, 0.002087376546114683, 0.001989659620448947, 0.001896592671982944, 0.0018098364816978574, 0.001719062332995236, 0.0016541799996048212, 0.001591494306921959, 0.001526158070191741, 0.0014499274548143148, 0.0013908903347328305, 0.0013452039565891027, 0.0012830867199227214, 0.0012343706330284476, 0.0011780826607719064, 0.0011413769097998738, 0.0010984105756506324, 0.0010573089821264148, 0.0010233264183625579, 0.0009785692673176527, 0.000944669300224632, 0.0009082548203878105, 0.0008771853754296899, 0.000839271058794111, 0.0008140677819028497, 0.0007843517232686281, 0.0007538219215348363, 0.0007264715386554599, 0.0007026188541203737, 0.0006780604599043727, 0.0006537250592373312, 0.0006254162290133536, 0.0006024211761541665, 0.0005821636295877397, 0.0005588408093899488, 0.0005411248421296477, 0.0005134729435667396, 0.0004936316981911659, 0.00047394627472385764, 0.00045390668674372137, 0.00043906111386604607, 0.00042326978291384876, 0.00040992238791659474, 0.0003943062329199165, 0.0003832647926174104, 0.00037227204302325845, 0.00036318879574537277, 0.0003517877194099128, 0.00034421816235408187, 0.0003364831500221044, 0.0003264320839662105, 0.00031986713293008506, 0.0003118632303085178, 0.0003064623742830008, 0.0002988692722283304, 0.0002909631293732673, 0.00028537819162011147, 0.00027891629724763334, 0.00027310976292937994, 0.00026727927615866065, 0.0002618408761918545, 0.0002567407791502774, 0.00025102266226895154, 0.00024622183991596103, 0.00024090213992167264, 0.00023614324163645506, 0.00023178070841822773, 0.000227086478844285, 0.0002229332603747025, 0.00021852385543752462, 0.00021406756422948092, 0.0002104074665112421, 0.00020670430967584252, 0.0002020896499743685, 0.00019868741219397634, 0.00019587186397984624, 0.00019146408885717392, 0.00018795268260873854, 0.00018550525419414043, 0.00018127181101590395, 0.0001784845517249778, 0.00017488107550889254, 0.0001724356261547655, 0.00016932033759076148, 0.00016623720875941217, 0.00016420272004324943, 0.00016086622781585902, 0.00015851121861487627, 0.00015571450057905167, 0.00015310654998756945, 0.0001506871631136164, 0.0001485710818087682, 0.0001460073108319193, 0.000143445999128744, 0.00014106743037700653, 0.00013892797869630158, 0.0001367877994198352, 0.00013464136281982064, 0.00013250431220512837, 0.00013073103036731482, 0.000128668500110507, 0.00012665125541388988, 0.00012497612624429166, 0.00012280207010917366, 0.0001211620619869791, 0.00011927899322472513, 0.000117484902148135, 0.00011598919809330255, 0.0001142796318163164, 0.00011269249807810411, 0.00011085966980317608, 0.00010947703412966803, 0.00010782027675304562, 0.00010628764721332118, 0.00010488833504496142, 0.00010329195356462151, 0.00010198395466431975, 0.00010043539077742025, 9.914344263961539e-05, 9.7701333288569e-05, 9.645628597354516e-05, 9.522133768768981e-05, 9.394866356160492e-05, 9.263151878258213e-05, 9.15332420845516e-05, 9.018665878102183e-05, 8.89852672116831e-05, 8.802876254776493e-05, 8.663602056913078e-05, 8.563088340451941e-05, 8.453932241536677e-05, 8.349383278982714e-05, 8.231422543758526e-05, 8.134682138916105e-05, 8.03910952527076e-05, 7.925931276986375e-05, 7.847641973057762e-05, 7.722797454334795e-05, 7.628065213793889e-05, 7.537529745604843e-05, 7.448167161783203e-05, 7.34706045477651e-05, 7.269779598573223e-05, 7.179660315159708e-05, 7.089122664183378e-05, 7.004034705460072e-05, 6.920042505953461e-05, 6.844018207630143e-05, 6.765982834622264e-05, 6.681736704194918e-05, 6.599496555281803e-05, 6.524230411741883e-05, 6.45038962829858e-05, 6.375453085638583e-05, 6.295146886259317e-05, 6.234223110368475e-05, 6.156518793432042e-05, 6.0836831835331395e-05, 6.013443635310978e-05, 5.94497105339542e-05, 5.880101161892526e-05, 5.8185072703054175e-05, 5.746087845182046e-05, 5.686252916348167e-05, 5.6223936553578824e-05, 5.5639015045017004e-05, 5.503396823769435e-05, 5.432067337096669e-05, 5.375925684347749e-05, 5.317517934599891e-05, 5.264562787488103e-05, 5.202126340009272e-05, 5.150934885023162e-05, 5.0916038162540644e-05, 5.0404105422785506e-05, 4.979400910087861e-05, 4.930893555865623e-05, 4.875506056123413e-05, 4.825153519050218e-05, 4.783106123795733e-05, 4.725535836769268e-05, 4.676188837038353e-05, 4.630114926840179e-05, 4.5775785110890865e-05, 4.5285669330041856e-05, 4.488871127250604e-05, 4.446154343895614e-05, 4.3931981053901836e-05, 4.345948764239438e-05, 4.306586924940348e-05, 4.259252818883397e-05, 4.219135735183954e-05, 4.176082438789308e-05, 4.1361330659128726e-05, 4.094505129614845e-05, 4.052374424645677e-05, 4.0125090890796855e-05, 3.9749935240251943e-05, 3.931184619432315e-05, 3.891739106620662e-05, 3.8553134800167754e-05, 3.8151119952090085e-05, 3.778436075663194e-05], 'accuracy': [0.22535210847854614, 0.43661972880363464, 0.7042253613471985, 0.9154929518699646, 0.9647887349128723, 0.9718309640884399, 0.9718309640884399, 0.9929577708244324, 0.9929577708244324, 0.9929577708244324, 0.9929577708244324, 0.9929577708244324, 0.9929577708244324, 0.9929577708244324, 1.0, 1.0, 1.0, 1.0, 1.0, 1.0, 1.0, 1.0, 1.0, 1.0, 1.0, 1.0, 1.0, 1.0, 1.0, 1.0, 1.0, 1.0, 1.0, 1.0, 1.0, 1.0, 1.0, 1.0, 1.0, 1.0, 1.0, 1.0, 1.0, 1.0, 1.0, 1.0, 1.0, 1.0, 1.0, 1.0, 1.0, 1.0, 1.0, 1.0, 1.0, 1.0, 1.0, 1.0, 1.0, 1.0, 1.0, 1.0, 1.0, 1.0, 1.0, 1.0, 1.0, 1.0, 1.0, 1.0, 1.0, 1.0, 1.0, 1.0, 1.0, 1.0, 1.0, 1.0, 1.0, 1.0, 1.0, 1.0, 1.0, 1.0, 1.0, 1.0, 1.0, 1.0, 1.0, 1.0, 1.0, 1.0, 1.0, 1.0, 1.0, 1.0, 1.0, 1.0, 1.0, 1.0, 1.0, 1.0, 1.0, 1.0, 1.0, 1.0, 1.0, 1.0, 1.0, 1.0, 1.0, 1.0, 1.0, 1.0, 1.0, 1.0, 1.0, 1.0, 1.0, 1.0, 1.0, 1.0, 1.0, 1.0, 1.0, 1.0, 1.0, 1.0, 1.0, 1.0, 1.0, 1.0, 1.0, 1.0, 1.0, 1.0, 1.0, 1.0, 1.0, 1.0, 1.0, 1.0, 1.0, 1.0, 1.0, 1.0, 1.0, 1.0, 1.0, 1.0, 1.0, 1.0, 1.0, 1.0, 1.0, 1.0, 1.0, 1.0, 1.0, 1.0, 1.0, 1.0, 1.0, 1.0, 1.0, 1.0, 1.0, 1.0, 1.0, 1.0, 1.0, 1.0, 1.0, 1.0, 1.0, 1.0, 1.0, 1.0, 1.0, 1.0, 1.0, 1.0, 1.0, 1.0, 1.0, 1.0, 1.0, 1.0, 1.0, 1.0, 1.0, 1.0, 1.0, 1.0, 1.0, 1.0, 1.0, 1.0, 1.0, 1.0, 1.0, 1.0, 1.0, 1.0, 1.0, 1.0, 1.0, 1.0, 1.0, 1.0, 1.0, 1.0, 1.0, 1.0, 1.0, 1.0, 1.0, 1.0, 1.0, 1.0, 1.0, 1.0, 1.0, 1.0, 1.0, 1.0, 1.0, 1.0, 1.0, 1.0, 1.0, 1.0, 1.0, 1.0, 1.0, 1.0, 1.0, 1.0, 1.0, 1.0, 1.0, 1.0, 1.0, 1.0, 1.0, 1.0, 1.0, 1.0, 1.0, 1.0], 'val_loss': [1.1041069030761719, 0.9367139339447021, 0.799856424331665, 0.6863181591033936, 0.5776159167289734, 0.4709644913673401, 0.36750221252441406, 0.27074748277664185, 0.1902751326560974, 0.13097697496414185, 0.0903024971485138, 0.06383727490901947, 0.04612790048122406, 0.03489306569099426, 0.02758875861763954, 0.02206071838736534, 0.018223758786916733, 0.015090341679751873, 0.01255101803690195, 0.010647122748196125, 0.008864019066095352, 0.007436809595674276, 0.006170995533466339, 0.005307154264301062, 0.004652312956750393, 0.004117482341825962, 0.0036473919171839952, 0.0032619601115584373, 0.002949233166873455, 0.0026567133609205484, 0.0024058655835688114, 0.0022065951488912106, 0.002050453331321478, 0.0018831504276022315, 0.001737657468765974, 0.0016182176768779755, 0.0015086049679666758, 0.0014117684913799167, 0.0013246159069240093, 0.001237786840647459, 0.0011724899522960186, 0.001101220492273569, 0.0010390086099505424, 0.0009836596436798573, 0.0009321483667008579, 0.0008814102038741112, 0.0008337718900293112, 0.0007956711342558265, 0.0007606646977365017, 0.0007284509483724833, 0.0006951990071684122, 0.0006665384862571955, 0.000638416619040072, 0.0006103762425482273, 0.0005847790162079036, 0.0005634111003018916, 0.0005419497611001134, 0.0005224089254625142, 0.0005021618562750518, 0.0004827616212423891, 0.0004635875520762056, 0.0004458085459191352, 0.0004287752672098577, 0.00041282171150669456, 0.00039825262501835823, 0.00038497557397931814, 0.0003707742434926331, 0.00035691604716703296, 0.0003452116216067225, 0.00033238378819078207, 0.0003192614240106195, 0.00030567520298063755, 0.00029452191665768623, 0.0002836515486706048, 0.0002739852643571794, 0.00026431813603267074, 0.00025500229094177485, 0.00024599264725111425, 0.00023799575865268707, 0.00023123521532397717, 0.00022448103118222207, 0.00021726345585193485, 0.0002095659147016704, 0.00020306256192270666, 0.00019685711595229805, 0.00019122660160064697, 0.0001859538460848853, 0.0001808622182579711, 0.000176035740878433, 0.0001714799291221425, 0.0001672322687227279, 0.00016303065058309585, 0.00015893505769781768, 0.00015486923803109676, 0.0001515673939138651, 0.00014815993199590594, 0.0001451328134862706, 0.00014232724788598716, 0.0001392041303915903, 0.00013633249909617007, 0.00013361586024984717, 0.0001307938655372709, 0.0001283586025238037, 0.000125801088870503, 0.00012329636956565082, 0.00012102974142180756, 0.00011877640645252541, 0.00011659924348350614, 0.00011450790771050379, 0.00011249279486946762, 0.00011060669203288853, 0.00010863787611015141, 0.00010671196650946513, 0.00010493498848518357, 0.00010326058691134676, 0.00010147363354917616, 9.974962449632585e-05, 9.820741252042353e-05, 9.64634382398799e-05, 9.48121742112562e-05, 9.329655586043373e-05, 9.17345387279056e-05, 9.015933756018057e-05, 8.880914538167417e-05, 8.754488226259127e-05, 8.614834951004013e-05, 8.476500806864351e-05, 8.33154990687035e-05, 8.207440259866416e-05, 8.089944458333775e-05, 7.962199015310034e-05, 7.849674875615165e-05, 7.731189543846995e-05, 7.618668314535171e-05, 7.509117131121457e-05, 7.400560571113601e-05, 7.29564344510436e-05, 7.186748553067446e-05, 7.083152740960941e-05, 6.987832603044808e-05, 6.882914749439806e-05, 6.78362266626209e-05, 6.685323023702949e-05, 6.596615276066586e-05, 6.508571095764637e-05, 6.422846490750089e-05, 6.326531001832336e-05, 6.242791278054938e-05, 6.16500765318051e-05, 6.0763017245335504e-05, 6.0087753809057176e-05, 5.9306628827471286e-05, 5.841292659169994e-05, 5.7694633142091334e-05, 5.6916807807283476e-05, 5.616540147457272e-05, 5.542727012652904e-05, 5.474871431943029e-05, 5.4123098379932344e-05, 5.343128941603936e-05, 5.2812276408076286e-05, 5.208407310419716e-05, 5.1547831390053034e-05, 5.086262899567373e-05, 5.025023710913956e-05, 4.967095082974993e-05, 4.9058573495130986e-05, 4.850907498621382e-05, 4.7900000936351717e-05, 4.730415821541101e-05, 4.673809962696396e-05, 4.618530874722637e-05, 4.55795343441423e-05, 4.502010779106058e-05, 4.4533491745823994e-05, 4.402039849082939e-05, 4.349736263975501e-05, 4.3023977923439816e-05, 4.2553903767839074e-05, 4.2057356040459126e-05, 4.1636943933553994e-05, 4.109735891688615e-05, 4.068356065545231e-05, 4.015721788164228e-05, 3.9723552617942914e-05, 3.931306491722353e-05, 3.888602077495307e-05, 3.8458980270661414e-05, 3.806172389886342e-05, 3.7651236198144034e-05, 3.7220874219201505e-05, 3.6843477573711425e-05, 3.64495390385855e-05, 3.603573713917285e-05, 3.5658336855703965e-05, 3.526438376866281e-05, 3.4903539926745e-05, 3.45427033607848e-05, 3.4191794838989154e-05, 3.38342651957646e-05, 3.346679295646027e-05, 3.311918771942146e-05, 3.2755036954768e-05, 3.2400814234279096e-05, 3.204327367711812e-05, 3.1755251256981865e-05, 3.144736183458008e-05, 3.110307443421334e-05, 3.078856025240384e-05, 3.0480681743938476e-05, 3.0156246793922037e-05, 2.9841741707059555e-05, 2.9553713829955086e-05, 2.9222665034467354e-05, 2.894457065849565e-05, 2.8676411602646112e-05, 2.8398315407685004e-05, 2.813015271385666e-05, 2.78355109912809e-05, 2.754748311417643e-05, 2.728593972278759e-05, 2.70343243755633e-05, 2.6762851121020503e-05, 2.6507930670049973e-05, 2.6269561203662306e-05, 2.6027875719591975e-05, 2.5766332328203134e-05, 2.5534585802233778e-05, 2.5273040591855533e-05, 2.504459916963242e-05, 2.4819475584081374e-05, 2.459765164530836e-05, 2.43592858168995e-05, 2.411428613413591e-05, 2.3909020455903374e-05, 2.3703752958681434e-05, 2.3491864340030588e-05, 2.3270045858225785e-05, 2.3044918634695932e-05, 2.2813166651758365e-05, 2.2647624064120464e-05, 2.243904600618407e-05, 2.2227157387533225e-05, 2.2021888071321882e-05, 2.182986463594716e-05, 2.1641148123308085e-05, 2.1452433429658413e-05, 2.123723243130371e-05, 2.1065070541226305e-05, 2.0882975150016136e-05], 'val_accuracy': [0.3055555522441864, 0.5, 0.8055555820465088, 0.9444444179534912, 1.0, 1.0, 1.0, 1.0, 1.0, 1.0, 1.0, 1.0, 1.0, 1.0, 1.0, 1.0, 1.0, 1.0, 1.0, 1.0, 1.0, 1.0, 1.0, 1.0, 1.0, 1.0, 1.0, 1.0, 1.0, 1.0, 1.0, 1.0, 1.0, 1.0, 1.0, 1.0, 1.0, 1.0, 1.0, 1.0, 1.0, 1.0, 1.0, 1.0, 1.0, 1.0, 1.0, 1.0, 1.0, 1.0, 1.0, 1.0, 1.0, 1.0, 1.0, 1.0, 1.0, 1.0, 1.0, 1.0, 1.0, 1.0, 1.0, 1.0, 1.0, 1.0, 1.0, 1.0, 1.0, 1.0, 1.0, 1.0, 1.0, 1.0, 1.0, 1.0, 1.0, 1.0, 1.0, 1.0, 1.0, 1.0, 1.0, 1.0, 1.0, 1.0, 1.0, 1.0, 1.0, 1.0, 1.0, 1.0, 1.0, 1.0, 1.0, 1.0, 1.0, 1.0, 1.0, 1.0, 1.0, 1.0, 1.0, 1.0, 1.0, 1.0, 1.0, 1.0, 1.0, 1.0, 1.0, 1.0, 1.0, 1.0, 1.0, 1.0, 1.0, 1.0, 1.0, 1.0, 1.0, 1.0, 1.0, 1.0, 1.0, 1.0, 1.0, 1.0, 1.0, 1.0, 1.0, 1.0, 1.0, 1.0, 1.0, 1.0, 1.0, 1.0, 1.0, 1.0, 1.0, 1.0, 1.0, 1.0, 1.0, 1.0, 1.0, 1.0, 1.0, 1.0, 1.0, 1.0, 1.0, 1.0, 1.0, 1.0, 1.0, 1.0, 1.0, 1.0, 1.0, 1.0, 1.0, 1.0, 1.0, 1.0, 1.0, 1.0, 1.0, 1.0, 1.0, 1.0, 1.0, 1.0, 1.0, 1.0, 1.0, 1.0, 1.0, 1.0, 1.0, 1.0, 1.0, 1.0, 1.0, 1.0, 1.0, 1.0, 1.0, 1.0, 1.0, 1.0, 1.0, 1.0, 1.0, 1.0, 1.0, 1.0, 1.0, 1.0, 1.0, 1.0, 1.0, 1.0, 1.0, 1.0, 1.0, 1.0, 1.0, 1.0, 1.0, 1.0, 1.0, 1.0, 1.0, 1.0, 1.0, 1.0, 1.0, 1.0, 1.0, 1.0, 1.0, 1.0, 1.0, 1.0, 1.0, 1.0, 1.0, 1.0, 1.0, 1.0, 1.0, 1.0, 1.0, 1.0, 1.0, 1.0, 1.0, 1.0, 1.0, 1.0, 1.0, 1.0, 1.0, 1.0, 1.0, 1.0, 1.0, 1.0]}\n"
          ]
        }
      ],
      "source": [
        "\n",
        "print(neural_mod.history)\n"
      ]
    },
    {
      "cell_type": "markdown",
      "metadata": {
        "id": "CFrPslul7eui"
      },
      "source": [
        "# Calculate metrics"
      ]
    },
    {
      "cell_type": "code",
      "execution_count": 11,
      "metadata": {
        "colab": {
          "base_uri": "https://localhost:8080/"
        },
        "id": "PFwb7Zoq3N37",
        "outputId": "c0adae40-2775-4695-9648-cdc95eaccac4"
      },
      "outputs": [
        {
          "name": "stdout",
          "output_type": "stream",
          "text": [
            "Training Loss:  0.028305487327001173\n",
            "Validation Loss:  0.023904388045019005\n",
            "Training Accuracy:  0.9925633808374404\n",
            "Validation Accuracy:  0.9942222222089767\n"
          ]
        }
      ],
      "source": [
        "average_training_loss = np.mean(neural_mod.history['loss'])\n",
        "average_validation_loss = np.mean(neural_mod.history['val_loss'])\n",
        "average_training_accuracy = np.mean(neural_mod.history['accuracy'])\n",
        "average_validation_accuracy = np.mean(neural_mod.history['val_accuracy'])\n",
        "\n",
        "# metrics\n",
        "print(\"Training Loss: \", average_training_loss)\n",
        "print(\"Validation Loss: \", average_validation_loss)\n",
        "print(\"Training Accuracy: \", average_training_accuracy)\n",
        "print(\"Validation Accuracy: \", average_validation_accuracy)"
      ]
    },
    {
      "cell_type": "markdown",
      "metadata": {
        "id": "QpBcRlhA7riX"
      },
      "source": [
        "# We can also extract the final epoch's metrics"
      ]
    },
    {
      "cell_type": "code",
      "execution_count": null,
      "metadata": {
        "colab": {
          "base_uri": "https://localhost:8080/"
        },
        "id": "cOQ5Ki0bD5qV",
        "outputId": "7e07afac-1512-4ddd-ac05-3c7a68b173bb"
      },
      "outputs": [],
      "source": [
        "final_training_loss = neural_mod.history['loss'][-1]\n",
        "final_training_accuracy = neural_mod.history['accuracy'][-1]\n",
        "final_validation_loss = neural_mod.history['val_loss'][-1]\n",
        "final_validation_accuracy = neural_mod.history['val_accuracy'][-1]\n",
        "\n",
        "# final metrics\n",
        "print(f\"Training loss: {final_training_loss:.4f}\")\n",
        "print(f\"Training accuracy: {final_training_accuracy:.2%}\")\n",
        "print(f\"Validation loss: {final_validation_loss:.4f}\")\n",
        "print(f\"Validation accuracy: {final_validation_accuracy:.2%}\")"
      ]
    },
    {
      "cell_type": "markdown",
      "metadata": {
        "id": "KizfJ38q70Ly"
      },
      "source": [
        "# Finally, let's plot the history"
      ]
    },
    {
      "cell_type": "code",
      "execution_count": 13,
      "metadata": {
        "colab": {
          "base_uri": "https://localhost:8080/",
          "height": 428
        },
        "id": "NGapkg-V9V9E",
        "outputId": "9d91d41c-12e9-4179-8b04-3022d49c00c1"
      },
      "outputs": [
        {
          "data": {
            "text/plain": [
              "<matplotlib.legend.Legend at 0x7c0c57226ad0>"
            ]
          },
          "execution_count": 13,
          "metadata": {},
          "output_type": "execute_result"
        },
        {
          "data": {
            "image/png": "[encoded data removed]",
            "text/plain": [
              "<Figure size 1200x400 with 1 Axes>"
            ]
          },
          "metadata": {},
          "output_type": "display_data"
        }
      ],
      "source": [
        "plt.figure(figsize=(12, 4))\n",
        "\n",
        "plt.subplot(1, 2, 1)\n",
        "plt.plot(neural_mod.history['loss'], label='Training_loss')\n",
        "plt.plot(neural_mod.history['val_loss'], label='val_loss')\n",
        "plt.xlabel('Epoch')\n",
        "plt.ylabel('Loss')\n",
        "plt.title('Training Loss vs. Epochs')\n",
        "plt.legend()\n"
      ]
    },
    {
      "cell_type": "code",
      "execution_count": 14,
      "metadata": {
        "colab": {
          "base_uri": "https://localhost:8080/",
          "height": 472
        },
        "id": "RBijff4f9V9E",
        "outputId": "6e33e27c-6d47-48ce-b8c2-c853713a271f"
      },
      "outputs": [
        {
          "data": {
            "image/png": "[encoded data removed]",
            "text/plain": [
              "<Figure size 640x480 with 1 Axes>"
            ]
          },
          "metadata": {},
          "output_type": "display_data"
        }
      ],
      "source": [
        "\n",
        "plt.subplot(1, 2, 2)\n",
        "plt.plot(neural_mod.history['accuracy'], label='Training_accuracy')\n",
        "plt.plot(neural_mod.history['val_accuracy'], label='val_accuracy')\n",
        "plt.xlabel('Epoch')\n",
        "plt.ylabel('Accuracy')\n",
        "plt.title('Training Accuracy vs. Epochs')\n",
        "plt.legend()\n",
        "\n",
        "plt.show()\n"
      ]
    }
  ],
  "metadata": {
    "accelerator": "TPU",
    "colab": {
      "gpuType": "V28",
      "provenance": []
    },
    "kernelspec": {
      "display_name": "renv",
      "language": "python",
      "name": "renv"
    },
    "language_info": {
      "codemirror_mode": {
        "name": "ipython",
        "version": 3
      },
      "file_extension": ".py",
      "mimetype": "text/x-python",
      "name": "python",
      "nbconvert_exporter": "python",
      "pygments_lexer": "ipython3",
      "version": "3.11.7"
    }
  },
  "nbformat": 4,
  "nbformat_minor": 0
}
